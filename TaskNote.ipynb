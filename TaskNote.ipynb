{
 "cells": [
  {
   "cell_type": "markdown",
   "metadata": {},
   "source": [
    "# Overall tasks\n",
    "\n",
    "  * Set up\n",
    "  * Translation (except GUI)\n",
    "  * GUI design & coding\n",
    "  * Manual / documentation\n",
    "  * Packaging\n",
    "  * Release\n",
    "  \n"
   ]
  },
  {
   "cell_type": "markdown",
   "metadata": {},
   "source": [
    "# Set up\n",
    "\n",
    "## Tools\n",
    "\n",
    " * Python\n",
    "     * NumPy\n",
    "     * SciPy\n",
    "     * Matplotlib\n",
    "     * Nibabel\n",
    "     * Jupyter\n",
    " * MATLAB (Done)\n",
    "     * NIfTI Toolbox (Done)\n",
    " * MRIcron\n",
    "     * Open MNI template\n",
    "     * Open T image (fMRI, FA)\n",
    "     * Overlay T image\n",
    " * Git (Already available)\n",
    " * Slack (Done)\n",
    " \n",
    "## Data & Codes\n",
    "\n",
    " * GitHub - Contributor added (Done)\n",
    " * T- & F-stat images (fMRI, high-res structural)\n",
    "     * Box -- Share the URL\n",
    " \n",
    "## Documentation\n",
    "\n",
    " * Manual\n",
    " * Neuroinformatics paper\n",
    " * Neuroimage paper\n",
    "\n",
    " "
   ]
  },
  {
   "cell_type": "markdown",
   "metadata": {},
   "source": [
    "# Translation\n",
    "\n",
    "### Verification (`mask_mesh.py`, `est_fwhm.py`)\n",
    "\n",
    "Use `ttest1.nii.gz` and `mask.nii.gz` as the input, and verify the following functions run on Python. Compare the results with the same functions in MATLAB.\n",
    "\n",
    "  * `mask_mesh.py` should produce an image file called `mask_coord.nii.gz`.\n",
    "  * `est_fwhm.py` should produce similar numbers (not exactly the same) as the MATLAB counterpart. Requires `mask_coord.nii.gz` as the input.\n",
    "  \n",
    "**Data files**\n",
    "\n",
    "  * `ttest1.nii.gz`: https://utexas.box.com/shared/static/vyxbit482skhgeegwbu2twf8ycvw4sto.gz\n",
    "  * `mask.nii.gz`: https://utexas.box.com/shared/static/nsmj9oc7v2jjro8w0pjvcmrwfmd52e2o.gz\n",
    "  * `FA_Tstat_YoungOld_DF28.nii.gz`: https://utexas.box.com/shared/static/z53gqwpy4iyb7dhbylvspht52tcz64dh.gz\n",
    "\n"
   ]
  }
 ],
 "metadata": {
  "kernelspec": {
   "display_name": "Python 3",
   "language": "python",
   "name": "python3"
  },
  "language_info": {
   "codemirror_mode": {
    "name": "ipython",
    "version": 3
   },
   "file_extension": ".py",
   "mimetype": "text/x-python",
   "name": "python",
   "nbconvert_exporter": "python",
   "pygments_lexer": "ipython3",
   "version": "3.4.5"
  }
 },
 "nbformat": 4,
 "nbformat_minor": 2
}
