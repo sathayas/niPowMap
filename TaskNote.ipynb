{
 "cells": [
  {
   "cell_type": "markdown",
   "metadata": {},
   "source": [
    "# Overall tasks\n",
    "\n",
    "  * Set up\n",
    "  * Translation (except GUI)\n",
    "  * GUI design & coding\n",
    "  * Manual / documentation\n",
    "  * Packaging\n",
    "  * Release\n",
    "  \n"
   ]
  },
  {
   "cell_type": "markdown",
   "metadata": {},
   "source": [
    "# Set up\n",
    "\n",
    "## Tools\n",
    "\n",
    " * Python\n",
    "     * NumPy\n",
    "     * SciPy\n",
    "     * Matplotlib\n",
    "     * Nibabel\n",
    "     * Jupyter\n",
    " * MATLAB (Done)\n",
    "     * NIfTI Toolbox (Done)\n",
    " * MRIcron                               #install this!!!! It's own thing\n",
    "     * Open MNI template\n",
    "     * Open T image (fMRI, FA)\n",
    "     * Overlay T image\n",
    " * Git (Already available)\n",
    " * Slack (Done)\n",
    " \n",
    "## Data & Codes\n",
    "\n",
    " * GitHub - Contributor added (Done)\n",
    " * T- & F-stat images (fMRI, high-res structural)\n",
    "     * Box -- Share the URL\n",
    " \n",
    "## Documentation\n",
    "\n",
    " * Manual\n",
    " * Neuroinformatics paper\n",
    " * Neuroimage paper\n",
    "\n",
    " "
   ]
  },
  {
   "cell_type": "markdown",
   "metadata": {},
   "source": [
    "# Translation\n",
    "\n",
    "### Verification (`mask_mesh.py`, `est_fwhm.py`)\n",
    "\n",
    "Use `ttest1.nii.gz` and `mask.nii.gz` as the input, and verify the following functions run on Python. Compare the results with the same functions in MATLAB.\n",
    "\n",
    "  * `mask_mesh.py` should produce an image file called `mask_coord.nii.gz`.\n",
    "  * `est_fwhm.py` should produce similar numbers (not exactly the same) as the MATLAB counterpart. Requires `mask_coord.nii.gz` as the input.\n",
    "  \n",
    "**Data files**\n",
    "\n",
    "  * `ttest1.nii.gz`: https://utexas.box.com/shared/static/vyxbit482skhgeegwbu2twf8ycvw4sto.gz\n",
    "  * `mask.nii.gz`: https://utexas.box.com/shared/static/nsmj9oc7v2jjro8w0pjvcmrwfmd52e2o.gz\n",
    "  * `FA_Tstat_YoungOld_DF28.nii.gz`: https://utexas.box.com/shared/static/z53gqwpy4iyb7dhbylvspht52tcz64dh.gz\n",
    "\n"
   ]
  },
  {
   "cell_type": "code",
   "execution_count": null,
   "metadata": {
    "collapsed": true
   },
   "outputs": [],
   "source": [
    "Progress:\n",
    "    Testing mask_mesh.py & est_fwhm.py with 'tstat1.nii.gz' (ttest1.nii.gz didn't exist so I assumed you meant this') and got an\n",
    "    array of [7.06768058, 7.03250096, 7.11305608]\n",
    "    Testing mask_mesh.py & est_fwhm.py with 'TA_Tstat_YoungOld_DF28.nii.gz' with df = 28 and got an\n",
    "    array of [27.23082849, 27.9870451, 27.84966072]\n",
    "        -This is outside of the range you gave me. I used df = 28 based on the title of the file. I will compare to what I get in MATLAB\n",
    "        \n",
    "    Testing test1.m with 'tstat1.nii.gz' gave [7.0654, 7.0324, 7.03250096]\n",
    "    Testing test1.m with 'TA_Tstat_YoungOld_DF28.nii.gz' gave [27.2175, 27.9857, 27.8387]\n",
    "    \n",
    "These in general look fine to me!"
   ]
  },
  {
   "cell_type": "markdown",
   "metadata": {},
   "source": [
    "### Translation (mask_mesh.py)\n",
    "\n",
    "This function should produce mask and mesh images to be used in a function `mesh_tet.py`. The function `mask_mesh.py` is incomplete, and it needs to be translated from `mask_mesh.m`.\n",
    "\n",
    "#### Input parameters\n",
    "\n",
    "  * **`input_file`**: A 4D coordinates file. You can use the one available on BOX for now:\n",
    "      * **`mask_coord.nii.gz`**: https://utexas.box.com/s/c9h2y2kn7c1s3si5yiohoml6x81juvtb\n",
    "  * **`output_file_base`**: You can use **`mask`** for now.\n",
    "  * **`mask_file`**: The mask file name. You can use `mask.nii.gz` for now. \n",
    "\n",
    "The image files (3D or 4D) are stored in the **NIfTI** (Neuroimaging Informatics Technology Initiative) format. A typical data file consists of 348 bytes of the header information, followed by the image data array. The header information contains a number of fields. You probably have to figure out which fields are which while you code, here are some info regarding the NIfTI header information. \n",
    "\n",
    "  * First, the documentation from the people who created the NIfTI format: https://nifti.nimh.nih.gov/nifti-1/documentation/nifti1fields\n",
    "  * Second, how the NIfTI tool in MATLAB reads the header info: (see **`load_nii_hdr.m`** function).\n",
    "\n",
    "Unfotunately NIfTI documentations tend to be unnecssarily detailed yet hard to digest for beginners. You can try searching the internet on people explaining the NIfTI format in plain English.\n"
   ]
  }
 ],
 "metadata": {
  "kernelspec": {
   "display_name": "Python 3",
   "language": "python",
   "name": "python3"
  },
  "language_info": {
   "codemirror_mode": {
    "name": "ipython",
    "version": 3
   },
   "file_extension": ".py",
   "mimetype": "text/x-python",
   "name": "python",
   "nbconvert_exporter": "python",
   "pygments_lexer": "ipython3",
   "version": "3.4.5"
  }
 },
 "nbformat": 4,
 "nbformat_minor": 2
}
