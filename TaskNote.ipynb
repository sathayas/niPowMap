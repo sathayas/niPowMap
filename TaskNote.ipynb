{
 "cells": [
  {
   "cell_type": "markdown",
   "metadata": {},
   "source": [
    "# Overall tasks\n",
    "\n",
    "  * Set up\n",
    "  * Translation (except GUI)\n",
    "  * GUI design & coding\n",
    "  * Manual / documentation\n",
    "  * Packaging\n",
    "  * Release\n",
    "  \n"
   ]
  },
  {
   "cell_type": "markdown",
   "metadata": {},
   "source": [
    "# Set up\n",
    "\n",
    "## Tools\n",
    "\n",
    " * Python\n",
    "     * NumPy\n",
    "     * SciPy\n",
    "     * Matplotlib\n",
    "     * Nibabel\n",
    "     * Jupyter\n",
    " * MATLAB (Done)\n",
    "     * NIfTI Toolbox (Done)\n",
    " * MRIcron\n",
    " * Git (Already available)\n",
    " * Slack\n",
    " \n",
    "## Data & Codes\n",
    "\n",
    " * GitHub - Contributor added (Done)\n",
    " * T- & F-stat images (fMRI, high-res structural)\n",
    "     * Box\n",
    " \n",
    "## Documentation\n",
    "\n",
    " * Manual\n",
    " * Neuroinformatics paper\n",
    " * Neuroimage paper\n",
    "\n",
    " "
   ]
  }
 ],
 "metadata": {
  "kernelspec": {
   "display_name": "Python 3",
   "language": "python",
   "name": "python3"
  },
  "language_info": {
   "codemirror_mode": {
    "name": "ipython",
    "version": 3
   },
   "file_extension": ".py",
   "mimetype": "text/x-python",
   "name": "python",
   "nbconvert_exporter": "python",
   "pygments_lexer": "ipython3",
   "version": "3.4.5"
  }
 },
 "nbformat": 4,
 "nbformat_minor": 2
}
